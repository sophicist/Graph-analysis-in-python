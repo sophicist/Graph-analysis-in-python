{
 "cells": [
  {
   "cell_type": "code",
   "execution_count": 1,
   "id": "befee381",
   "metadata": {
    "ExecuteTime": {
     "end_time": "2022-04-19T07:02:51.880936Z",
     "start_time": "2022-04-19T07:02:51.418529Z"
    }
   },
   "outputs": [],
   "source": [
    "import networkx as nx\n",
    "john = nx.Graph()"
   ]
  },
  {
   "cell_type": "code",
   "execution_count": 4,
   "id": "488a06ce",
   "metadata": {
    "ExecuteTime": {
     "end_time": "2022-04-19T07:04:59.511137Z",
     "start_time": "2022-04-19T07:04:59.494182Z"
    }
   },
   "outputs": [
    {
     "data": {
      "text/plain": [
       "NodeView(('kamau', 'eric', 'cosmas', 'anne', 'alex'))"
      ]
     },
     "execution_count": 4,
     "metadata": {},
     "output_type": "execute_result"
    }
   ],
   "source": [
    "john.add_node(\"kamau\")\n",
    "john.add_nodes_from([\"eric\",\"cosmas\",\"anne\",\"alex\"])\n",
    "john.nodes()"
   ]
  },
  {
   "cell_type": "code",
   "execution_count": 10,
   "id": "a08bc32a",
   "metadata": {
    "ExecuteTime": {
     "end_time": "2022-04-19T07:10:00.239791Z",
     "start_time": "2022-04-19T07:10:00.218847Z"
    }
   },
   "outputs": [
    {
     "data": {
      "text/plain": [
       "EdgeView([('kamau', 'john'), ('eric', 'john'), ('eric', 'cosmas'), ('anne', 'alex'), ('alex', 'john')])"
      ]
     },
     "execution_count": 10,
     "metadata": {},
     "output_type": "execute_result"
    }
   ],
   "source": [
    "john.add_edges_from([(\"eric\",\"john\"),(\"cosmas\",\"eric\"),(\"anne\",\"alex\"),(\"john\",\"alex\"),(\"kamau\",\"john\")])\n",
    "john.edges()"
   ]
  },
  {
   "cell_type": "code",
   "execution_count": 19,
   "id": "1cba3035",
   "metadata": {
    "ExecuteTime": {
     "end_time": "2022-04-19T07:11:41.245154Z",
     "start_time": "2022-04-19T07:11:41.140987Z"
    }
   },
   "outputs": [
    {
     "data": {
      "image/png": "[encoded data removed]",
      "text/plain": [
       "<Figure size 432x288 with 1 Axes>"
      ]
     },
     "metadata": {},
     "output_type": "display_data"
    }
   ],
   "source": [
    "import matplotlib.pyplot as plt\n",
    "nx.draw(john,with_labels = True,font_weight='bold')"
   ]
  },
  {
   "cell_type": "code",
   "execution_count": 20,
   "id": "fa51b1be",
   "metadata": {
    "ExecuteTime": {
     "end_time": "2022-04-19T07:31:07.691289Z",
     "start_time": "2022-04-19T07:31:07.680277Z"
    }
   },
   "outputs": [],
   "source": [
    "# additional examples\n",
    "import networkx as nx\n",
    "import numpy as np\n",
    "import matplotlib.pyplot as plt\n",
    "G = nx.Graph()\n",
    "G.add_nodes_from([\"A\",\"B\",\"C\",\"D\",\"E\",\"F\",\"G\",\"H\",\"I\",\"J\",\"K\"])\n",
    "G.add_edges_from([(\"A\",\"C\"),(\"B\",\"C\"),(\"C\",\"D\"),(\"D\",\"E\"),\n",
    "(\"D\",\"G\"),(\"A\",\"G\"),(\"F\",\"H\"),(\"G\",\"H\"),(\"H\",\"I\"),\n",
    "(\"I\",\"J\"),(\"I\",\"K\")])"
   ]
  },
  {
   "cell_type": "code",
   "execution_count": 21,
   "id": "0ec2c770",
   "metadata": {
    "ExecuteTime": {
     "end_time": "2022-04-19T07:31:19.993437Z",
     "start_time": "2022-04-19T07:31:19.878777Z"
    }
   },
   "outputs": [
    {
     "data": {
      "image/png": "[encoded data removed]",
      "text/plain": [
       "<Figure size 432x288 with 1 Axes>"
      ]
     },
     "metadata": {},
     "output_type": "display_data"
    }
   ],
   "source": [
    "nx.draw(G, node_size=400, node_color='red', with_labels=True, font_weight='bold')"
   ]
  },
  {
   "cell_type": "code",
   "execution_count": 22,
   "id": "c762217b",
   "metadata": {
    "ExecuteTime": {
     "end_time": "2022-04-19T07:31:44.550913Z",
     "start_time": "2022-04-19T07:31:44.524983Z"
    }
   },
   "outputs": [
    {
     "name": "stdout",
     "output_type": "stream",
     "text": [
      "degree centrality:\n",
      "C:0.3 D:0.3 G:0.3 H:0.3 I:0.3 A:0.2 B:0.1 E:0.1 F:0.1 J:0.1 K:0.1 \n",
      "\n",
      "eigenvector centrality:\n",
      "G:0.481 D:0.443 C:0.405 A:0.367 H:0.352 I:0.222 E:0.184 B:0.168 F:0.146 J:0.0918 K:0.0918 \n",
      "\n",
      "between centrality:\n",
      "H:0.6 G:0.578 I:0.378 D:0.333 C:0.222 A:0.133 B:0.0 E:0.0 F:0.0 J:0.0 K:0.0 \n",
      "\n",
      "closeness centrality:\n",
      "G:0.5 H:0.476 D:0.435 A:0.4 I:0.385 C:0.357 F:0.333 E:0.312 J:0.286 K:0.286 B:0.27 \n",
      "\n"
     ]
    }
   ],
   "source": [
    "print(\"degree centrality:\")\n",
    "for k, v in sorted(nx.degree_centrality(G).items(), key=lambda x: -x[1]):\n",
    "      print(str(k)+\":\"+\"{:.3}\".format(v)+\" \", end=\"\")\n",
    "print(\"\\n\")\n",
    "print(\"eigenvector centrality:\")\n",
    "for k, v in sorted(nx.eigenvector_centrality(G).items(), key=lambda x: -x[1]):\n",
    "      print(str(k)+\":\"+\"{:.3}\".format(v)+\" \", end=\"\")\n",
    "print(\"\\n\")\n",
    "print(\"between centrality:\")\n",
    "for k, v in sorted(nx.betweenness_centrality(G).items(), key=lambda x: -x[1]):\n",
    "      print(str(k)+\":\"+\"{:.3}\".format(v)+\" \", end=\"\")\n",
    "print(\"\\n\")\n",
    "print(\"closeness centrality:\")\n",
    "for k, v in sorted(nx.closeness_centrality(G).items(), key=lambda x: -x[1]):\n",
    "      print(str(k)+\":\"+\"{:.3}\".format(v)+\" \", end=\"\")\n",
    "print(\"\\n\")"
   ]
  },
  {
   "cell_type": "code",
   "execution_count": null,
   "id": "1ddc9747",
   "metadata": {},
   "outputs": [],
   "source": []
  }
 ],
 "metadata": {
  "kernelspec": {
   "display_name": "Python 3 (ipykernel)",
   "language": "python",
   "name": "python3"
  },
  "language_info": {
   "codemirror_mode": {
    "name": "ipython",
    "version": 3
   },
   "file_extension": ".py",
   "mimetype": "text/x-python",
   "name": "python",
   "nbconvert_exporter": "python",
   "pygments_lexer": "ipython3",
   "version": "3.9.7"
  }
 },
 "nbformat": 4,
 "nbformat_minor": 5
}
