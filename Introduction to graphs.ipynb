{
 "cells": [
  {
   "cell_type": "code",
   "execution_count": 22,
   "id": "befee381",
   "metadata": {
    "ExecuteTime": {
     "end_time": "2022-04-19T07:02:51.880936Z",
     "start_time": "2022-04-19T07:02:51.418529Z"
    }
   },
   "outputs": [],
   "source": [
    "import networkx as nx\n",
    "import matplotlib.pyplot as plt\n",
    "john = nx.Graph()"
   ]
  },
  {
   "cell_type": "code",
   "execution_count": 21,
   "id": "4de3e069",
   "metadata": {},
   "outputs": [
    {
     "data": {
      "text/plain": [
       "1"
      ]
     },
     "execution_count": 21,
     "metadata": {},
     "output_type": "execute_result"
    },
    {
     "data": {
      "image/png": "[encoded data removed]",
      "text/plain": [
       "<Figure size 432x288 with 1 Axes>"
      ]
     },
     "metadata": {},
     "output_type": "display_data"
    }
   ],
   "source": [
    "friends = nx.Graph()\n",
    "friends.add_nodes_from([\"alice\",\"alex\",\"eric\",\"marvin\",\"newton\",\"richard\"])\n",
    "friends.add_edges_from([(\"alice\",\"alex\"),(\"eric\",\"marvin\"),(\"newton\",\"richard\")])\n",
    "nx.draw_networkx(friends,with_labels=True, font_weight='bold')\n",
    "friends.nodes\n",
    "friends.edges\n",
    "friends.degree[\"eric\"]"
   ]
  },
  {
   "cell_type": "code",
   "execution_count": 23,
   "id": "488a06ce",
   "metadata": {
    "ExecuteTime": {
     "end_time": "2022-04-19T07:04:59.511137Z",
     "start_time": "2022-04-19T07:04:59.494182Z"
    }
   },
   "outputs": [
    {
     "data": {
      "text/plain": [
       "NodeView(('kamau', 'eric', 'cosmas', 'anne', 'alex'))"
      ]
     },
     "execution_count": 23,
     "metadata": {},
     "output_type": "execute_result"
    }
   ],
   "source": [
    "john.add_node(\"kamau\")\n",
    "john.add_nodes_from([\"eric\",\"cosmas\",\"anne\",\"alex\"])\n",
    "john.nodes()"
   ]
  },
  {
   "cell_type": "code",
   "execution_count": 24,
   "id": "a08bc32a",
   "metadata": {
    "ExecuteTime": {
     "end_time": "2022-04-19T07:10:00.239791Z",
     "start_time": "2022-04-19T07:10:00.218847Z"
    }
   },
   "outputs": [
    {
     "data": {
      "text/plain": [
       "EdgeView([('kamau', 'john'), ('eric', 'john'), ('eric', 'cosmas'), ('anne', 'alex'), ('alex', 'john')])"
      ]
     },
     "execution_count": 24,
     "metadata": {},
     "output_type": "execute_result"
    }
   ],
   "source": [
    "john.add_edges_from([(\"eric\",\"john\"),(\"cosmas\",\"eric\"),(\"anne\",\"alex\"),(\"john\",\"alex\"),(\"kamau\",\"john\")])\n",
    "john.edges()"
   ]
  },
  {
   "cell_type": "code",
   "execution_count": 25,
   "id": "1cba3035",
   "metadata": {
    "ExecuteTime": {
     "end_time": "2022-04-19T07:11:41.245154Z",
     "start_time": "2022-04-19T07:11:41.140987Z"
    }
   },
   "outputs": [
    {
     "ename": "TypeError",
     "evalue": "'_AxesStack' object is not callable",
     "output_type": "error",
     "traceback": [
      "\u001b[1;31m---------------------------------------------------------------------------\u001b[0m",
      "\u001b[1;31mTypeError\u001b[0m                                 Traceback (most recent call last)",
      "\u001b[1;32md:\\Personal projects\\Graph-analysis-in-python\\Introduction to graphs.ipynb Cell 5\u001b[0m in \u001b[0;36m<cell line: 2>\u001b[1;34m()\u001b[0m\n\u001b[0;32m      <a href='vscode-notebook-cell:/d%3A/Personal%20projects/Graph-analysis-in-python/Introduction%20to%20graphs.ipynb#W3sZmlsZQ%3D%3D?line=0'>1</a>\u001b[0m \u001b[39mimport\u001b[39;00m \u001b[39mmatplotlib\u001b[39;00m\u001b[39m.\u001b[39;00m\u001b[39mpyplot\u001b[39;00m \u001b[39mas\u001b[39;00m \u001b[39mplt\u001b[39;00m\n\u001b[1;32m----> <a href='vscode-notebook-cell:/d%3A/Personal%20projects/Graph-analysis-in-python/Introduction%20to%20graphs.ipynb#W3sZmlsZQ%3D%3D?line=1'>2</a>\u001b[0m nx\u001b[39m.\u001b[39;49mdraw(john,with_labels \u001b[39m=\u001b[39;49m \u001b[39mTrue\u001b[39;49;00m,font_weight\u001b[39m=\u001b[39;49m\u001b[39m'\u001b[39;49m\u001b[39mbold\u001b[39;49m\u001b[39m'\u001b[39;49m)\n",
      "File \u001b[1;32mc:\\Users\\Administrator\\.virtualenvs\\LIFT-ZfCkO8hQ\\lib\\site-packages\\networkx\\drawing\\nx_pylab.py:112\u001b[0m, in \u001b[0;36mdraw\u001b[1;34m(G, pos, ax, **kwds)\u001b[0m\n\u001b[0;32m    110\u001b[0m cf\u001b[39m.\u001b[39mset_facecolor(\u001b[39m\"\u001b[39m\u001b[39mw\u001b[39m\u001b[39m\"\u001b[39m)\n\u001b[0;32m    111\u001b[0m \u001b[39mif\u001b[39;00m ax \u001b[39mis\u001b[39;00m \u001b[39mNone\u001b[39;00m:\n\u001b[1;32m--> 112\u001b[0m     \u001b[39mif\u001b[39;00m cf\u001b[39m.\u001b[39;49m_axstack() \u001b[39mis\u001b[39;00m \u001b[39mNone\u001b[39;00m:\n\u001b[0;32m    113\u001b[0m         ax \u001b[39m=\u001b[39m cf\u001b[39m.\u001b[39madd_axes((\u001b[39m0\u001b[39m, \u001b[39m0\u001b[39m, \u001b[39m1\u001b[39m, \u001b[39m1\u001b[39m))\n\u001b[0;32m    114\u001b[0m     \u001b[39melse\u001b[39;00m:\n",
      "\u001b[1;31mTypeError\u001b[0m: '_AxesStack' object is not callable"
     ]
    },
    {
     "data": {
      "text/plain": [
       "<Figure size 432x288 with 0 Axes>"
      ]
     },
     "metadata": {},
     "output_type": "display_data"
    }
   ],
   "source": [
    "import matplotlib.pyplot as plt\n",
    "nx.draw(john,with_labels = True,font_weight='bold')"
   ]
  },
  {
   "cell_type": "code",
   "execution_count": 5,
   "id": "fa51b1be",
   "metadata": {
    "ExecuteTime": {
     "end_time": "2022-04-19T07:31:07.691289Z",
     "start_time": "2022-04-19T07:31:07.680277Z"
    }
   },
   "outputs": [],
   "source": [
    "# additional examples\n",
    "import networkx as nx\n",
    "import numpy as np\n",
    "import matplotlib.pyplot as plt\n",
    "G1 = nx.Graph()\n",
    "G1.add_nodes_from([\"A\",\"B\",\"C\",\"D\",\"E\",\"F\",\"G\",\"H\",\"I\",\"J\",\"K\"])\n",
    "G1.add_edges_from([(\"A\",\"C\"),(\"B\",\"C\"),(\"C\",\"D\"),(\"D\",\"E\"),\n",
    "(\"D\",\"G\"),(\"A\",\"G\"),(\"F\",\"H\"),(\"G\",\"H\"),(\"H\",\"I\"),\n",
    "(\"I\",\"J\"),(\"I\",\"K\")])"
   ]
  },
  {
   "cell_type": "code",
   "execution_count": 6,
   "id": "0ec2c770",
   "metadata": {
    "ExecuteTime": {
     "end_time": "2022-04-19T07:31:19.993437Z",
     "start_time": "2022-04-19T07:31:19.878777Z"
    }
   },
   "outputs": [
    {
     "data": {
      "image/png": "[encoded data removed]",
      "text/plain": [
       "<Figure size 432x288 with 1 Axes>"
      ]
     },
     "metadata": {},
     "output_type": "display_data"
    }
   ],
   "source": [
    "nx.draw(G1, node_size=400, node_color='red', with_labels=True, font_weight='bold')"
   ]
  },
  {
   "cell_type": "code",
   "execution_count": 7,
   "id": "c762217b",
   "metadata": {
    "ExecuteTime": {
     "end_time": "2022-04-19T07:31:44.550913Z",
     "start_time": "2022-04-19T07:31:44.524983Z"
    }
   },
   "outputs": [],
   "source": [
    "# print(\"degree centrality:\")\n",
    "# for k, v in sorted(nx.degree_centrality(G).items(), key=lambda x: -x[1]):\n",
    "#       print(str(k)+\":\"+\"{:.3}\".format(v)+\" \", end=\"\")\n",
    "# print(\"\\n\")\n",
    "# print(\"eigenvector centrality:\")\n",
    "# for k, v in sorted(nx.eigenvector_centrality(G).items(), key=lambda x: -x[1]):\n",
    "#       print(str(k)+\":\"+\"{:.3}\".format(v)+\" \", end=\"\")\n",
    "# print(\"\\n\")\n",
    "# print(\"between centrality:\")\n",
    "# for k, v in sorted(nx.betweenness_centrality(G).items(), key=lambda x: -x[1]):\n",
    "#       print(str(k)+\":\"+\"{:.3}\".format(v)+\" \", end=\"\")\n",
    "# print(\"\\n\")\n",
    "# print(\"closeness centrality:\")\n",
    "# for k, v in sorted(nx.closeness_centrality(G).items(), key=lambda x: -x[1]):\n",
    "#       print(str(k)+\":\"+\"{:.3}\".format(v)+\" \", end=\"\")\n",
    "# print(\"\\n\")"
   ]
  },
  {
   "cell_type": "code",
   "execution_count": 8,
   "id": "1ddc9747",
   "metadata": {},
   "outputs": [
    {
     "data": {
      "image/png": "[encoded data removed]",
      "text/plain": [
       "<Figure size 432x288 with 1 Axes>"
      ]
     },
     "metadata": {},
     "output_type": "display_data"
    }
   ],
   "source": [
    "# different widths and colors\n",
    "\n",
    "import networkx as nx\n",
    "\n",
    "G = nx.Graph()\n",
    "G.add_edge(1,2,color='r',weight=2)\n",
    "G.add_edge(2,3,color='b',weight=4)\n",
    "G.add_edge(3,4,color='g',weight=6)\n",
    "\n",
    "pos = nx.circular_layout(G)\n",
    "\n",
    "edges = G.edges()\n",
    "colors = [G[u][v]['color'] for u,v in edges]\n",
    "weights = [G[u][v]['weight'] for u,v in edges]\n",
    "\n",
    "nx.draw(G, pos, edge_color=colors, width=weights,with_labels = True)"
   ]
  },
  {
   "cell_type": "code",
   "execution_count": 9,
   "id": "dfe6aa81",
   "metadata": {},
   "outputs": [],
   "source": [
    "G = nx.Graph()\n",
    "G.add_nodes_from([\"\"])"
   ]
  },
  {
   "cell_type": "markdown",
   "id": "2bef40ae",
   "metadata": {},
   "source": [
    "# Example 3"
   ]
  },
  {
   "cell_type": "code",
   "execution_count": 10,
   "id": "f0dabe38",
   "metadata": {},
   "outputs": [],
   "source": [
    "\n",
    "G = nx.Graph([(\"A\", \"eggs\"),])\n",
    "G.add_node(\"spinach\") # Add a single node\n",
    "G.add_node(\"Hg\") # Add a single node by mistake\n",
    "G.add_nodes_from([\"folates\", \"asparagus\", \"liver\"]) # Add a list of nodes\n",
    "G.add_edge(\"spinach\", \"folates\") # Add one edge, both ends exist\n",
    "G.add_edge(\"spinach\", \"heating oil\") # Add one edge by mistake\n",
    "G.add_edge(\"liver\", \"Se\") # Add one edge, one end does not exist\n",
    "G.add_edges_from([(\"folates\", \"liver\"), (\"folates\", \"asparagus\")])"
   ]
  },
  {
   "cell_type": "code",
   "execution_count": 11,
   "id": "7df2d0df",
   "metadata": {},
   "outputs": [],
   "source": [
    "G.remove_node(\"Hg\")\n",
    "G.remove_nodes_from([\"Hg\",]) # Safe to remove a missing node using a list\n",
    "G.remove_edge(\"spinach\", \"heating oil\")\n",
    "G.remove_edges_from([(\"spinach\", \"heating oil\"), ]) # See above\n",
    "G.remove_node(\"heating oil\") # Not removed yet"
   ]
  },
  {
   "cell_type": "code",
   "execution_count": 12,
   "id": "ef850c2e",
   "metadata": {},
   "outputs": [
    {
     "name": "stdout",
     "output_type": "stream",
     "text": [
      "[('A', {}), ('eggs', {}), ('spinach', {}), ('folates', {}), ('asparagus', {}), ('liver', {}), ('Se', {})]\n"
     ]
    }
   ],
   "source": [
    "print(G.nodes(data = True))"
   ]
  },
  {
   "cell_type": "code",
   "execution_count": 13,
   "id": "7bfa5d0e",
   "metadata": {},
   "outputs": [
    {
     "data": {
      "image/png": "[encoded data removed]",
      "text/plain": [
       "<Figure size 432x288 with 1 Axes>"
      ]
     },
     "metadata": {},
     "output_type": "display_data"
    }
   ],
   "source": [
    "nx.draw(G)"
   ]
  },
  {
   "cell_type": "code",
   "execution_count": 28,
   "id": "5f8b05d9",
   "metadata": {},
   "outputs": [
    {
     "data": {
      "image/png": "[encoded data removed]",
      "text/plain": [
       "<Figure size 432x288 with 1 Axes>"
      ]
     },
     "metadata": {},
     "output_type": "display_data"
    }
   ],
   "source": [
    "import matplotlib.pyplot as plt\n",
    "#import dzcnapy_plotlib as dzcnapy\n",
    "import csv\n",
    "with open(\"../code/nutrients.csv\") as infile:\n",
    "    csv_reader = csv.reader(infile)\n",
    "    G = nx.Graph(csv_reader)\n",
    "# remove self loops ( loops that refer to themselves)\n",
    "# loops = G.selfloop_edges()\n",
    "# G.remove_edges_from(loops)\n",
    "# print(loops)\n",
    "# # loops = G.selfloop_edges()\n",
    "# # print(loops) # No more loops\n",
    "nx.draw_networkx(G,with_labels = True)"
   ]
  },
  {
   "cell_type": "code",
   "execution_count": 29,
   "id": "935e84fb",
   "metadata": {},
   "outputs": [],
   "source": [
    "nodes = list(G.nodes())\n",
    "#h = {}\n",
    "import random\n",
    "for i in nodes:\n",
    "    G.nodes[i][\"income\"] = random.randint(0,40)\n",
    "    "
   ]
  },
  {
   "cell_type": "code",
   "execution_count": 16,
   "id": "28b30c85",
   "metadata": {},
   "outputs": [
    {
     "data": {
      "text/plain": [
       "NodeDataView({'A': {'income': 39}, 'carrots': {'income': 40}, 'eggs': {'income': 10}, 'fatty fish': {'income': 9}, 'green leafy vegs': {'income': 3}, 'liver': {'income': 16}, 'milk': {'income': 27}, 'tomatoes': {'income': 17}, 'B12': {'income': 35}, 'B6': {'income': 21}, 'asparagus': {'income': 21}, 'beans': {'income': 7}, 'kidneys': {'income': 37}, 'potatoes': {'income': 29}, 'C': {'income': 1}, 'pumpkins': {'income': 39}, 'Ca': {'income': 2}, 'broccoli': {'income': 0}, 'cheese': {'income': 6}, 'Cu': {'income': 13}, 'nuts': {'income': 0}, 'whole grains': {'income': 25}, 'D': {'income': 12}, 'mushrooms': {'income': 6}, 'E': {'income': 19}, 'seeds': {'income': 10}, 'Mn': {'income': 32}, 'legumes': {'income': 25}, 'wheat': {'income': 13}, 'Se': {'income': 25}, 'Zn': {'income': 16}, 'beef': {'income': 8}, 'riboflavin': {'income': 39}, 'niacin': {'income': 20}, 'folates': {'income': 27}, 'spinach': {'income': 11}, 'poultry': {'income': 39}, 'shellfish': {'income': 33}, 'thiamin': {'income': 16}, 'veg oils': {'income': 8}, 'yogurt': {'income': 18}})"
      ]
     },
     "execution_count": 16,
     "metadata": {},
     "output_type": "execute_result"
    }
   ],
   "source": [
    "G.nodes(data = True)"
   ]
  },
  {
   "cell_type": "code",
   "execution_count": 31,
   "id": "0e76d4a2",
   "metadata": {},
   "outputs": [
    {
     "name": "stdout",
     "output_type": "stream",
     "text": [
      "Unexpected exception formatting exception. Falling back to standard exception\n"
     ]
    },
    {
     "name": "stderr",
     "output_type": "stream",
     "text": [
      "Traceback (most recent call last):\n",
      "  File \"c:\\Users\\Administrator\\.virtualenvs\\LIFT-ZfCkO8hQ\\lib\\site-packages\\IPython\\core\\interactiveshell.py\", line 3397, in run_code\n",
      "    exec(code_obj, self.user_global_ns, self.user_ns)\n",
      "  File \"C:\\Users\\Administrator\\AppData\\Local\\Temp\\ipykernel_14772\\2566194905.py\", line 9, in <cell line: 9>\n",
      "    nx.draw_networkx_spring(G,with_labels = True)\n",
      "  File \"c:\\Users\\Administrator\\.virtualenvs\\LIFT-ZfCkO8hQ\\lib\\site-packages\\networkx\\__init__.py\", line 51, in __getattr__\n",
      "AttributeError: module networkx has no attribute draw_networkx_spring\n",
      "\n",
      "During handling of the above exception, another exception occurred:\n",
      "\n",
      "Traceback (most recent call last):\n",
      "  File \"c:\\Users\\Administrator\\.virtualenvs\\LIFT-ZfCkO8hQ\\lib\\site-packages\\IPython\\core\\interactiveshell.py\", line 1992, in showtraceback\n",
      "    stb = self.InteractiveTB.structured_traceback(\n",
      "  File \"c:\\Users\\Administrator\\.virtualenvs\\LIFT-ZfCkO8hQ\\lib\\site-packages\\IPython\\core\\ultratb.py\", line 1118, in structured_traceback\n",
      "    return FormattedTB.structured_traceback(\n",
      "  File \"c:\\Users\\Administrator\\.virtualenvs\\LIFT-ZfCkO8hQ\\lib\\site-packages\\IPython\\core\\ultratb.py\", line 1012, in structured_traceback\n",
      "    return VerboseTB.structured_traceback(\n",
      "  File \"c:\\Users\\Administrator\\.virtualenvs\\LIFT-ZfCkO8hQ\\lib\\site-packages\\IPython\\core\\ultratb.py\", line 865, in structured_traceback\n",
      "    formatted_exception = self.format_exception_as_a_whole(etype, evalue, etb, number_of_lines_of_context,\n",
      "  File \"c:\\Users\\Administrator\\.virtualenvs\\LIFT-ZfCkO8hQ\\lib\\site-packages\\IPython\\core\\ultratb.py\", line 818, in format_exception_as_a_whole\n",
      "    frames.append(self.format_record(r))\n",
      "  File \"c:\\Users\\Administrator\\.virtualenvs\\LIFT-ZfCkO8hQ\\lib\\site-packages\\IPython\\core\\ultratb.py\", line 736, in format_record\n",
      "    result += ''.join(_format_traceback_lines(frame_info.lines, Colors, self.has_colors, lvals))\n",
      "  File \"c:\\Users\\Administrator\\.virtualenvs\\LIFT-ZfCkO8hQ\\lib\\site-packages\\stack_data\\utils.py\", line 145, in cached_property_wrapper\n",
      "    value = obj.__dict__[self.func.__name__] = self.func(obj)\n",
      "  File \"c:\\Users\\Administrator\\.virtualenvs\\LIFT-ZfCkO8hQ\\lib\\site-packages\\stack_data\\core.py\", line 698, in lines\n",
      "    pieces = self.included_pieces\n",
      "  File \"c:\\Users\\Administrator\\.virtualenvs\\LIFT-ZfCkO8hQ\\lib\\site-packages\\stack_data\\utils.py\", line 145, in cached_property_wrapper\n",
      "    value = obj.__dict__[self.func.__name__] = self.func(obj)\n",
      "  File \"c:\\Users\\Administrator\\.virtualenvs\\LIFT-ZfCkO8hQ\\lib\\site-packages\\stack_data\\core.py\", line 649, in included_pieces\n",
      "    pos = scope_pieces.index(self.executing_piece)\n",
      "  File \"c:\\Users\\Administrator\\.virtualenvs\\LIFT-ZfCkO8hQ\\lib\\site-packages\\stack_data\\utils.py\", line 145, in cached_property_wrapper\n",
      "    value = obj.__dict__[self.func.__name__] = self.func(obj)\n",
      "  File \"c:\\Users\\Administrator\\.virtualenvs\\LIFT-ZfCkO8hQ\\lib\\site-packages\\stack_data\\core.py\", line 628, in executing_piece\n",
      "    return only(\n",
      "  File \"c:\\Users\\Administrator\\.virtualenvs\\LIFT-ZfCkO8hQ\\lib\\site-packages\\executing\\executing.py\", line 164, in only\n",
      "    raise NotOneValueFound('Expected one value, found 0')\n",
      "executing.executing.NotOneValueFound: Expected one value, found 0\n"
     ]
    }
   ],
   "source": [
    "# drawing layouts\n",
    "#nx.draw_random(G,with_labels = True)\n",
    "#nx.draw_circular(G,with_labels = True)\n",
    "#nx.draw_shell(G,with_labels = True)\n",
    "#nx.draw_spectral(G,with_labels = True)\n",
    "# pos=nx.fruchterman_reingold_layout(G) # force directed\n",
    "# nx.draw(G,pos = pos,with_labels = True)\n",
    "#nx.draw_networkx(G,with_labels = True)\n",
    "nx.draw_networkx_spring(G,with_labels = True)"
   ]
  },
  {
   "cell_type": "code",
   "execution_count": 18,
   "id": "da9f819b",
   "metadata": {},
   "outputs": [],
   "source": [
    "# from networkx.drawing.nx_agraph import graphviz_layout\n",
    "# nx.draw_networkx(G,\n",
    "#                  pos,\n",
    "#                  with_labels = True)\n"
   ]
  },
  {
   "cell_type": "code",
   "execution_count": 32,
   "id": "94c3be09",
   "metadata": {},
   "outputs": [],
   "source": [
    "nx.write_graphml(G, \"nutrients.graphml\") # SAVE TTHE MODEL"
   ]
  },
  {
   "cell_type": "code",
   "execution_count": 20,
   "id": "5d624ac6",
   "metadata": {},
   "outputs": [
    {
     "data": {
      "text/plain": [
       "NodeDataView({'A': {'income': 39}, 'carrots': {'income': 40}, 'eggs': {'income': 10}, 'fatty fish': {'income': 9}, 'green leafy vegs': {'income': 3}, 'liver': {'income': 16}, 'milk': {'income': 27}, 'tomatoes': {'income': 17}, 'B12': {'income': 35}, 'B6': {'income': 21}, 'asparagus': {'income': 21}, 'beans': {'income': 7}, 'kidneys': {'income': 37}, 'potatoes': {'income': 29}, 'C': {'income': 1}, 'pumpkins': {'income': 39}, 'Ca': {'income': 2}, 'broccoli': {'income': 0}, 'cheese': {'income': 6}, 'Cu': {'income': 13}, 'nuts': {'income': 0}, 'whole grains': {'income': 25}, 'D': {'income': 12}, 'mushrooms': {'income': 6}, 'E': {'income': 19}, 'seeds': {'income': 10}, 'Mn': {'income': 32}, 'legumes': {'income': 25}, 'wheat': {'income': 13}, 'Se': {'income': 25}, 'Zn': {'income': 16}, 'beef': {'income': 8}, 'riboflavin': {'income': 39}, 'niacin': {'income': 20}, 'folates': {'income': 27}, 'spinach': {'income': 11}, 'poultry': {'income': 39}, 'shellfish': {'income': 33}, 'thiamin': {'income': 16}, 'veg oils': {'income': 8}, 'yogurt': {'income': 18}})"
      ]
     },
     "execution_count": 20,
     "metadata": {},
     "output_type": "execute_result"
    }
   ],
   "source": [
    "G.nodes(data = True)"
   ]
  },
  {
   "cell_type": "code",
   "execution_count": 21,
   "id": "bdac4204",
   "metadata": {},
   "outputs": [
    {
     "data": {
      "text/plain": [
       "EdgeDataView([('A', 'carrots', {}), ('A', 'eggs', {}), ('A', 'fatty fish', {}), ('A', 'green leafy vegs', {}), ('A', 'liver', {}), ('A', 'milk', {}), ('A', 'tomatoes', {}), ('carrots', 'C', {}), ('eggs', 'B12', {}), ('eggs', 'riboflavin', {}), ('fatty fish', 'B6', {}), ('fatty fish', 'D', {}), ('fatty fish', 'B12', {}), ('fatty fish', 'niacin', {}), ('green leafy vegs', 'Mn', {}), ('green leafy vegs', 'C', {}), ('green leafy vegs', 'Ca', {}), ('green leafy vegs', 'E', {}), ('green leafy vegs', 'riboflavin', {}), ('liver', 'B6', {}), ('liver', 'Cu', {}), ('liver', 'folates', {}), ('liver', 'Se', {}), ('liver', 'Zn', {}), ('milk', 'B12', {}), ('milk', 'D', {}), ('milk', 'Ca', {}), ('milk', 'riboflavin', {}), ('tomatoes', 'C', {}), ('tomatoes', 'tomatoes', {}), ('B12', 'beef', {}), ('B12', 'poultry', {}), ('B6', 'asparagus', {}), ('B6', 'beans', {}), ('B6', 'kidneys', {}), ('B6', 'potatoes', {}), ('B6', 'beef', {}), ('B6', 'poultry', {}), ('asparagus', 'folates', {}), ('beans', 'Zn', {}), ('beans', 'Cu', {}), ('kidneys', 'Se', {}), ('kidneys', 'Zn', {}), ('kidneys', 'Cu', {}), ('potatoes', 'Zn', {}), ('potatoes', 'Cu', {}), ('C', 'pumpkins', {}), ('C', 'broccoli', {}), ('Ca', 'broccoli', {}), ('Ca', 'cheese', {}), ('Ca', 'yogurt', {}), ('Cu', 'nuts', {}), ('Cu', 'whole grains', {}), ('Cu', 'shellfish', {}), ('nuts', 'E', {}), ('nuts', 'Mn', {}), ('nuts', 'niacin', {}), ('nuts', 'Zn', {}), ('whole grains', 'Mn', {}), ('whole grains', 'niacin', {}), ('whole grains', 'thiamin', {}), ('D', 'mushrooms', {}), ('E', 'seeds', {}), ('E', 'veg oils', {}), ('seeds', 'Mn', {}), ('seeds', 'niacin', {}), ('Mn', 'legumes', {}), ('Mn', 'wheat', {}), ('legumes', 'riboflavin', {}), ('Se', 'shellfish', {}), ('Zn', 'beef', {}), ('Zn', 'poultry', {}), ('beef', 'riboflavin', {}), ('beef', 'niacin', {}), ('folates', 'spinach', {})])"
      ]
     },
     "execution_count": 21,
     "metadata": {},
     "output_type": "execute_result"
    }
   ],
   "source": [
    "G.edges(data = True)"
   ]
  },
  {
   "cell_type": "code",
   "execution_count": 24,
   "id": "d4eb2503",
   "metadata": {},
   "outputs": [
    {
     "data": {
      "text/plain": [
       "<networkx.classes.graph.Graph at 0x224c16f1310>"
      ]
     },
     "execution_count": 24,
     "metadata": {},
     "output_type": "execute_result"
    }
   ],
   "source": [
    "# Generate and draw classic networks\n",
    "G0 = nx. path_graph(20)\n",
    "G1 = nx. cycle_graph(20)\n",
    "G4 = nx. star_graph(20)\n",
    "G5 = nx.complete_graph(20)\n",
    "G2 = nx. balanced_tree(2, 5)\n",
    "G3 = nx. grid_2d_graph(5, 4)\n",
    "names = (\"Linear (Path)\", \"Ring (Cycle)\", \"Balanced Tree\", \"Mesh (Grid)\",\n",
    "\"Star\", \"Complete\")\n",
    "G0"
   ]
  },
  {
   "cell_type": "code",
   "execution_count": 25,
   "id": "31723928",
   "metadata": {},
   "outputs": [],
   "source": [
    "# Generate and draw famous social networks\n",
    "G0 = nx.karate_club_graph()\n",
    "G1 = nx.davis_southern_women_graph()\n",
    "G2 = nx.florentine_families_graph()\n",
    "names = (\"Zachary's Karate Club\", \"Davis Southern women\",\n",
    "\"Florentine families\")"
   ]
  },
  {
   "cell_type": "code",
   "execution_count": null,
   "id": "f1e48915",
   "metadata": {},
   "outputs": [],
   "source": []
  }
 ],
 "metadata": {
  "interpreter": {
   "hash": "c515c8fbc483ac3d2f3ff49e0e689583c7d80870f65eed60ae70ca5582b184ce"
  },
  "kernelspec": {
   "display_name": "Python 3.10.4 ('LIFT-ZfCkO8hQ')",
   "language": "python",
   "name": "python3"
  },
  "language_info": {
   "codemirror_mode": {
    "name": "ipython",
    "version": 3
   },
   "file_extension": ".py",
   "mimetype": "text/x-python",
   "name": "python",
   "nbconvert_exporter": "python",
   "pygments_lexer": "ipython3",
   "version": "3.10.4"
  }
 },
 "nbformat": 4,
 "nbformat_minor": 5
}
